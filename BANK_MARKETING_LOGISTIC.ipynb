{
 "cells": [
  {
   "cell_type": "code",
   "execution_count": 21,
   "metadata": {},
   "outputs": [],
   "source": [
    "#reading and displaying few records from the dataset\n",
    "import pandas as pd\n",
    "import numpy as np"
   ]
  },
  {
   "cell_type": "code",
   "execution_count": 22,
   "metadata": {},
   "outputs": [],
   "source": [
    "#loading the dataset\n",
    "bank_df = pd.read_csv(r\"C:\\Users\\dell\\Desktop\\Current\\Machine Learning\\Python Programs\\PYTHON_DATA\\BANK_MARKETING.csv\")"
   ]
  },
  {
   "cell_type": "code",
   "execution_count": 23,
   "metadata": {},
   "outputs": [
    {
     "data": {
      "text/html": [
       "<div>\n",
       "<style scoped>\n",
       "    .dataframe tbody tr th:only-of-type {\n",
       "        vertical-align: middle;\n",
       "    }\n",
       "\n",
       "    .dataframe tbody tr th {\n",
       "        vertical-align: top;\n",
       "    }\n",
       "\n",
       "    .dataframe thead th {\n",
       "        text-align: right;\n",
       "    }\n",
       "</style>\n",
       "<table border=\"1\" class=\"dataframe\">\n",
       "  <thead>\n",
       "    <tr style=\"text-align: right;\">\n",
       "      <th></th>\n",
       "      <th>age</th>\n",
       "      <th>job</th>\n",
       "      <th>marital</th>\n",
       "      <th>education</th>\n",
       "      <th>Credit Default</th>\n",
       "      <th>balance</th>\n",
       "      <th>Housing Loan</th>\n",
       "      <th>Personal Loan</th>\n",
       "      <th>duration</th>\n",
       "      <th>Subscription</th>\n",
       "    </tr>\n",
       "  </thead>\n",
       "  <tbody>\n",
       "    <tr>\n",
       "      <th>0</th>\n",
       "      <td>30</td>\n",
       "      <td>unemployed</td>\n",
       "      <td>married</td>\n",
       "      <td>primary</td>\n",
       "      <td>0</td>\n",
       "      <td>1787</td>\n",
       "      <td>0</td>\n",
       "      <td>0</td>\n",
       "      <td>79</td>\n",
       "      <td>0</td>\n",
       "    </tr>\n",
       "    <tr>\n",
       "      <th>1</th>\n",
       "      <td>33</td>\n",
       "      <td>services</td>\n",
       "      <td>married</td>\n",
       "      <td>secondary</td>\n",
       "      <td>0</td>\n",
       "      <td>4789</td>\n",
       "      <td>1</td>\n",
       "      <td>1</td>\n",
       "      <td>220</td>\n",
       "      <td>0</td>\n",
       "    </tr>\n",
       "    <tr>\n",
       "      <th>2</th>\n",
       "      <td>35</td>\n",
       "      <td>management</td>\n",
       "      <td>single</td>\n",
       "      <td>tertiary</td>\n",
       "      <td>0</td>\n",
       "      <td>1350</td>\n",
       "      <td>1</td>\n",
       "      <td>0</td>\n",
       "      <td>185</td>\n",
       "      <td>0</td>\n",
       "    </tr>\n",
       "    <tr>\n",
       "      <th>3</th>\n",
       "      <td>30</td>\n",
       "      <td>management</td>\n",
       "      <td>married</td>\n",
       "      <td>tertiary</td>\n",
       "      <td>0</td>\n",
       "      <td>1476</td>\n",
       "      <td>1</td>\n",
       "      <td>1</td>\n",
       "      <td>199</td>\n",
       "      <td>0</td>\n",
       "    </tr>\n",
       "    <tr>\n",
       "      <th>4</th>\n",
       "      <td>59</td>\n",
       "      <td>blue-collar</td>\n",
       "      <td>married</td>\n",
       "      <td>secondary</td>\n",
       "      <td>0</td>\n",
       "      <td>0</td>\n",
       "      <td>1</td>\n",
       "      <td>0</td>\n",
       "      <td>226</td>\n",
       "      <td>0</td>\n",
       "    </tr>\n",
       "  </tbody>\n",
       "</table>\n",
       "</div>"
      ],
      "text/plain": [
       "   age          job  marital  education  Credit Default  balance  \\\n",
       "0   30   unemployed  married    primary               0     1787   \n",
       "1   33     services  married  secondary               0     4789   \n",
       "2   35   management   single   tertiary               0     1350   \n",
       "3   30   management  married   tertiary               0     1476   \n",
       "4   59  blue-collar  married  secondary               0        0   \n",
       "\n",
       "   Housing Loan  Personal Loan  duration  Subscription  \n",
       "0             0              0        79             0  \n",
       "1             1              1       220             0  \n",
       "2             1              0       185             0  \n",
       "3             1              1       199             0  \n",
       "4             1              0       226             0  "
      ]
     },
     "execution_count": 23,
     "metadata": {},
     "output_type": "execute_result"
    }
   ],
   "source": [
    "bank_df.head(5)"
   ]
  },
  {
   "cell_type": "code",
   "execution_count": 24,
   "metadata": {},
   "outputs": [],
   "source": [
    "X_features = list(bank_df)\n",
    "X_features.remove('Subscription')"
   ]
  },
  {
   "cell_type": "code",
   "execution_count": 25,
   "metadata": {},
   "outputs": [
    {
     "data": {
      "text/plain": [
       "['age',\n",
       " 'Credit Default',\n",
       " 'balance',\n",
       " 'Housing Loan',\n",
       " 'Personal Loan',\n",
       " 'duration',\n",
       " 'job_blue-collar',\n",
       " 'job_entrepreneur',\n",
       " 'job_housemaid',\n",
       " 'job_management',\n",
       " 'job_retired',\n",
       " 'job_self-employed',\n",
       " 'job_services',\n",
       " 'job_student',\n",
       " 'job_technician',\n",
       " 'job_unemployed',\n",
       " 'job_unknown',\n",
       " 'marital_married',\n",
       " 'marital_single',\n",
       " 'education_secondary',\n",
       " 'education_tertiary',\n",
       " 'education_unknown']"
      ]
     },
     "execution_count": 25,
     "metadata": {},
     "output_type": "execute_result"
    }
   ],
   "source": [
    "encoded_bank_df = pd.get_dummies(bank_df[X_features],drop_first = True)\n",
    "list(encoded_bank_df.columns)"
   ]
  },
  {
   "cell_type": "code",
   "execution_count": 27,
   "metadata": {},
   "outputs": [],
   "source": [
    "import statsmodels.api as sm \n",
    "Y = bank_df.Subscription\n",
    "X = sm.add_constant(encoded_bank_df)"
   ]
  },
  {
   "cell_type": "code",
   "execution_count": 28,
   "metadata": {},
   "outputs": [],
   "source": [
    "from sklearn.model_selection import train_test_split\n",
    "X_train,X_test,Y_train,Y_test = train_test_split(X,Y,test_size = 0.3,random_state = 42)"
   ]
  },
  {
   "cell_type": "code",
   "execution_count": 29,
   "metadata": {},
   "outputs": [
    {
     "name": "stdout",
     "output_type": "stream",
     "text": [
      "Optimization terminated successfully.\n",
      "         Current function value: 0.274960\n",
      "         Iterations 7\n"
     ]
    }
   ],
   "source": [
    "import statsmodels.api as sm\n",
    "logit = sm.Logit(Y_train,X_train)\n",
    "logit_model = logit.fit()\n"
   ]
  },
  {
   "cell_type": "code",
   "execution_count": 30,
   "metadata": {},
   "outputs": [
    {
     "data": {
      "text/html": [
       "<table class=\"simpletable\">\n",
       "<tr>\n",
       "        <td>Model:</td>              <td>Logit</td>      <td>Pseudo R-squared:</td>    <td>0.236</td>  \n",
       "</tr>\n",
       "<tr>\n",
       "  <td>Dependent Variable:</td>   <td>Subscription</td>         <td>AIC:</td>         <td>1439.4984</td>\n",
       "</tr>\n",
       "<tr>\n",
       "         <td>Date:</td>        <td>2019-10-23 10:21</td>       <td>BIC:</td>         <td>1573.7622</td>\n",
       "</tr>\n",
       "<tr>\n",
       "   <td>No. Observations:</td>        <td>2534</td>        <td>Log-Likelihood:</td>    <td>-696.75</td> \n",
       "</tr>\n",
       "<tr>\n",
       "       <td>Df Model:</td>             <td>22</td>            <td>LL-Null:</td>        <td>-911.54</td> \n",
       "</tr>\n",
       "<tr>\n",
       "     <td>Df Residuals:</td>          <td>2511</td>         <td>LLR p-value:</td>    <td>3.1479e-77</td>\n",
       "</tr>\n",
       "<tr>\n",
       "      <td>Converged:</td>           <td>1.0000</td>           <td>Scale:</td>         <td>1.0000</td>  \n",
       "</tr>\n",
       "<tr>\n",
       "    <td>No. Iterations:</td>        <td>7.0000</td>              <td></td>               <td></td>     \n",
       "</tr>\n",
       "</table>\n",
       "<table class=\"simpletable\">\n",
       "<tr>\n",
       "           <td></td>            <th>Coef.</th>  <th>Std.Err.</th>    <th>z</th>     <th>P>|z|</th> <th>[0.025</th>  <th>0.975]</th> \n",
       "</tr>\n",
       "<tr>\n",
       "  <th>const</th>               <td>-3.0787</td>  <td>0.5670</td>  <td>-5.4301</td> <td>0.0000</td> <td>-4.1899</td> <td>-1.9674</td>\n",
       "</tr>\n",
       "<tr>\n",
       "  <th>age</th>                 <td>0.0105</td>   <td>0.0087</td>  <td>1.2054</td>  <td>0.2281</td> <td>-0.0066</td> <td>0.0275</td> \n",
       "</tr>\n",
       "<tr>\n",
       "  <th>Credit Default</th>      <td>0.4158</td>   <td>0.5921</td>  <td>0.7023</td>  <td>0.4825</td> <td>-0.7446</td> <td>1.5762</td> \n",
       "</tr>\n",
       "<tr>\n",
       "  <th>balance</th>             <td>0.0000</td>   <td>0.0000</td>  <td>1.4524</td>  <td>0.1464</td> <td>-0.0000</td> <td>0.0001</td> \n",
       "</tr>\n",
       "<tr>\n",
       "  <th>Housing Loan</th>        <td>-0.7760</td>  <td>0.1556</td>  <td>-4.9868</td> <td>0.0000</td> <td>-1.0810</td> <td>-0.4710</td>\n",
       "</tr>\n",
       "<tr>\n",
       "  <th>Personal Loan</th>       <td>-1.0045</td>  <td>0.2618</td>  <td>-3.8361</td> <td>0.0001</td> <td>-1.5177</td> <td>-0.4913</td>\n",
       "</tr>\n",
       "<tr>\n",
       "  <th>duration</th>            <td>0.0041</td>   <td>0.0003</td>  <td>16.0651</td> <td>0.0000</td> <td>0.0036</td>  <td>0.0046</td> \n",
       "</tr>\n",
       "<tr>\n",
       "  <th>job_blue-collar</th>     <td>-0.9484</td>  <td>0.3098</td>  <td>-3.0613</td> <td>0.0022</td> <td>-1.5556</td> <td>-0.3412</td>\n",
       "</tr>\n",
       "<tr>\n",
       "  <th>job_entrepreneur</th>    <td>-0.8953</td>  <td>0.4881</td>  <td>-1.8344</td> <td>0.0666</td> <td>-1.8519</td> <td>0.0613</td> \n",
       "</tr>\n",
       "<tr>\n",
       "  <th>job_housemaid</th>       <td>-0.5738</td>  <td>0.5455</td>  <td>-1.0520</td> <td>0.2928</td> <td>-1.6429</td> <td>0.4953</td> \n",
       "</tr>\n",
       "<tr>\n",
       "  <th>job_management</th>      <td>-0.2993</td>  <td>0.3000</td>  <td>-0.9975</td> <td>0.3185</td> <td>-0.8873</td> <td>0.2887</td> \n",
       "</tr>\n",
       "<tr>\n",
       "  <th>job_retired</th>         <td>0.1138</td>   <td>0.3756</td>  <td>0.3030</td>  <td>0.7619</td> <td>-0.6223</td> <td>0.8499</td> \n",
       "</tr>\n",
       "<tr>\n",
       "  <th>job_self-employed</th>   <td>-0.7493</td>  <td>0.4214</td>  <td>-1.7782</td> <td>0.0754</td> <td>-1.5752</td> <td>0.0766</td> \n",
       "</tr>\n",
       "<tr>\n",
       "  <th>job_services</th>        <td>-0.6464</td>  <td>0.3523</td>  <td>-1.8349</td> <td>0.0665</td> <td>-1.3369</td> <td>0.0441</td> \n",
       "</tr>\n",
       "<tr>\n",
       "  <th>job_student</th>         <td>0.5580</td>   <td>0.4888</td>  <td>1.1416</td>  <td>0.2536</td> <td>-0.4000</td> <td>1.5161</td> \n",
       "</tr>\n",
       "<tr>\n",
       "  <th>job_technician</th>      <td>-0.3183</td>  <td>0.2809</td>  <td>-1.1333</td> <td>0.2571</td> <td>-0.8688</td> <td>0.2322</td> \n",
       "</tr>\n",
       "<tr>\n",
       "  <th>job_unemployed</th>      <td>-1.3628</td>  <td>0.5899</td>  <td>-2.3103</td> <td>0.0209</td> <td>-2.5189</td> <td>-0.2067</td>\n",
       "</tr>\n",
       "<tr>\n",
       "  <th>job_unknown</th>         <td>0.3018</td>   <td>0.6596</td>  <td>0.4575</td>  <td>0.6473</td> <td>-0.9910</td> <td>1.5945</td> \n",
       "</tr>\n",
       "<tr>\n",
       "  <th>marital_married</th>     <td>-0.2569</td>  <td>0.2174</td>  <td>-1.1818</td> <td>0.2373</td> <td>-0.6830</td> <td>0.1692</td> \n",
       "</tr>\n",
       "<tr>\n",
       "  <th>marital_single</th>      <td>-0.0360</td>  <td>0.2579</td>  <td>-0.1394</td> <td>0.8891</td> <td>-0.5415</td> <td>0.4696</td> \n",
       "</tr>\n",
       "<tr>\n",
       "  <th>education_secondary</th> <td>0.1878</td>   <td>0.2490</td>  <td>0.7545</td>  <td>0.4506</td> <td>-0.3001</td> <td>0.6758</td> \n",
       "</tr>\n",
       "<tr>\n",
       "  <th>education_tertiary</th>  <td>0.4351</td>   <td>0.2839</td>  <td>1.5328</td>  <td>0.1253</td> <td>-0.1213</td> <td>0.9915</td> \n",
       "</tr>\n",
       "<tr>\n",
       "  <th>education_unknown</th>   <td>-0.3518</td>  <td>0.4435</td>  <td>-0.7933</td> <td>0.4276</td> <td>-1.2212</td> <td>0.5175</td> \n",
       "</tr>\n",
       "</table>"
      ],
      "text/plain": [
       "<class 'statsmodels.iolib.summary2.Summary'>\n",
       "\"\"\"\n",
       "                          Results: Logit\n",
       "===================================================================\n",
       "Model:                Logit            Pseudo R-squared: 0.236     \n",
       "Dependent Variable:   Subscription     AIC:              1439.4984 \n",
       "Date:                 2019-10-23 10:21 BIC:              1573.7622 \n",
       "No. Observations:     2534             Log-Likelihood:   -696.75   \n",
       "Df Model:             22               LL-Null:          -911.54   \n",
       "Df Residuals:         2511             LLR p-value:      3.1479e-77\n",
       "Converged:            1.0000           Scale:            1.0000    \n",
       "No. Iterations:       7.0000                                       \n",
       "-------------------------------------------------------------------\n",
       "                     Coef.  Std.Err.    z    P>|z|   [0.025  0.975]\n",
       "-------------------------------------------------------------------\n",
       "const               -3.0787   0.5670 -5.4301 0.0000 -4.1899 -1.9674\n",
       "age                  0.0105   0.0087  1.2054 0.2281 -0.0066  0.0275\n",
       "Credit Default       0.4158   0.5921  0.7023 0.4825 -0.7446  1.5762\n",
       "balance              0.0000   0.0000  1.4524 0.1464 -0.0000  0.0001\n",
       "Housing Loan        -0.7760   0.1556 -4.9868 0.0000 -1.0810 -0.4710\n",
       "Personal Loan       -1.0045   0.2618 -3.8361 0.0001 -1.5177 -0.4913\n",
       "duration             0.0041   0.0003 16.0651 0.0000  0.0036  0.0046\n",
       "job_blue-collar     -0.9484   0.3098 -3.0613 0.0022 -1.5556 -0.3412\n",
       "job_entrepreneur    -0.8953   0.4881 -1.8344 0.0666 -1.8519  0.0613\n",
       "job_housemaid       -0.5738   0.5455 -1.0520 0.2928 -1.6429  0.4953\n",
       "job_management      -0.2993   0.3000 -0.9975 0.3185 -0.8873  0.2887\n",
       "job_retired          0.1138   0.3756  0.3030 0.7619 -0.6223  0.8499\n",
       "job_self-employed   -0.7493   0.4214 -1.7782 0.0754 -1.5752  0.0766\n",
       "job_services        -0.6464   0.3523 -1.8349 0.0665 -1.3369  0.0441\n",
       "job_student          0.5580   0.4888  1.1416 0.2536 -0.4000  1.5161\n",
       "job_technician      -0.3183   0.2809 -1.1333 0.2571 -0.8688  0.2322\n",
       "job_unemployed      -1.3628   0.5899 -2.3103 0.0209 -2.5189 -0.2067\n",
       "job_unknown          0.3018   0.6596  0.4575 0.6473 -0.9910  1.5945\n",
       "marital_married     -0.2569   0.2174 -1.1818 0.2373 -0.6830  0.1692\n",
       "marital_single      -0.0360   0.2579 -0.1394 0.8891 -0.5415  0.4696\n",
       "education_secondary  0.1878   0.2490  0.7545 0.4506 -0.3001  0.6758\n",
       "education_tertiary   0.4351   0.2839  1.5328 0.1253 -0.1213  0.9915\n",
       "education_unknown   -0.3518   0.4435 -0.7933 0.4276 -1.2212  0.5175\n",
       "===================================================================\n",
       "\n",
       "\"\"\""
      ]
     },
     "execution_count": 30,
     "metadata": {},
     "output_type": "execute_result"
    }
   ],
   "source": [
    "logit_model.summary2()"
   ]
  },
  {
   "cell_type": "code",
   "execution_count": 1,
   "metadata": {},
   "outputs": [],
   "source": [
    "def get_significant_vars(x):\n",
    "    var_p_vals_df = pd.DataFrame(x.pvalues)\n",
    "    #print(var_p_vals_df)\n",
    "    var_p_vals_df['vars'] = var_p_vals_df.index\n",
    "    var_p_vals_df.columns = ['pvals','vars']\n",
    "    #print(var_p_vals_df['pvals'],var_p_vals_df['vars'])\n",
    "    return list(var_p_vals_df[var_p_vals_df.pvals<=0.05][\"vars\"])"
   ]
  },
  {
   "cell_type": "code",
   "execution_count": 32,
   "metadata": {},
   "outputs": [],
   "source": [
    "significant_vars = get_significant_vars(logit_model)"
   ]
  },
  {
   "cell_type": "code",
   "execution_count": 33,
   "metadata": {},
   "outputs": [
    {
     "data": {
      "text/plain": [
       "['const',\n",
       " 'Housing Loan',\n",
       " 'Personal Loan',\n",
       " 'duration',\n",
       " 'job_blue-collar',\n",
       " 'job_unemployed']"
      ]
     },
     "execution_count": 33,
     "metadata": {},
     "output_type": "execute_result"
    }
   ],
   "source": [
    "significant_vars"
   ]
  },
  {
   "cell_type": "code",
   "execution_count": 34,
   "metadata": {},
   "outputs": [
    {
     "name": "stdout",
     "output_type": "stream",
     "text": [
      "Optimization terminated successfully.\n",
      "         Current function value: 0.280259\n",
      "         Iterations 7\n"
     ]
    }
   ],
   "source": [
    "final_logit = sm.Logit(Y_train,sm.add_constant(X_train[significant_vars])).fit()"
   ]
  },
  {
   "cell_type": "code",
   "execution_count": 35,
   "metadata": {},
   "outputs": [
    {
     "data": {
      "text/html": [
       "<table class=\"simpletable\">\n",
       "<tr>\n",
       "        <td>Model:</td>              <td>Logit</td>      <td>Pseudo R-squared:</td>    <td>0.221</td>  \n",
       "</tr>\n",
       "<tr>\n",
       "  <td>Dependent Variable:</td>   <td>Subscription</td>         <td>AIC:</td>         <td>1432.3529</td>\n",
       "</tr>\n",
       "<tr>\n",
       "         <td>Date:</td>        <td>2019-10-23 10:23</td>       <td>BIC:</td>         <td>1467.3782</td>\n",
       "</tr>\n",
       "<tr>\n",
       "   <td>No. Observations:</td>        <td>2534</td>        <td>Log-Likelihood:</td>    <td>-710.18</td> \n",
       "</tr>\n",
       "<tr>\n",
       "       <td>Df Model:</td>              <td>5</td>            <td>LL-Null:</td>        <td>-911.54</td> \n",
       "</tr>\n",
       "<tr>\n",
       "     <td>Df Residuals:</td>          <td>2528</td>         <td>LLR p-value:</td>    <td>7.6550e-85</td>\n",
       "</tr>\n",
       "<tr>\n",
       "      <td>Converged:</td>           <td>1.0000</td>           <td>Scale:</td>         <td>1.0000</td>  \n",
       "</tr>\n",
       "<tr>\n",
       "    <td>No. Iterations:</td>        <td>7.0000</td>              <td></td>               <td></td>     \n",
       "</tr>\n",
       "</table>\n",
       "<table class=\"simpletable\">\n",
       "<tr>\n",
       "         <td></td>          <th>Coef.</th>  <th>Std.Err.</th>     <th>z</th>     <th>P>|z|</th> <th>[0.025</th>  <th>0.975]</th> \n",
       "</tr>\n",
       "<tr>\n",
       "  <th>const</th>           <td>-2.6898</td>  <td>0.1247</td>  <td>-21.5652</td> <td>0.0000</td> <td>-2.9342</td> <td>-2.4453</td>\n",
       "</tr>\n",
       "<tr>\n",
       "  <th>Housing Loan</th>    <td>-0.8939</td>  <td>0.1463</td>   <td>-6.1103</td> <td>0.0000</td> <td>-1.1807</td> <td>-0.6072</td>\n",
       "</tr>\n",
       "<tr>\n",
       "  <th>Personal Loan</th>   <td>-1.0428</td>  <td>0.2555</td>   <td>-4.0813</td> <td>0.0000</td> <td>-1.5436</td> <td>-0.5420</td>\n",
       "</tr>\n",
       "<tr>\n",
       "  <th>duration</th>        <td>0.0040</td>   <td>0.0002</td>   <td>16.2154</td> <td>0.0000</td> <td>0.0035</td>  <td>0.0045</td> \n",
       "</tr>\n",
       "<tr>\n",
       "  <th>job_blue-collar</th> <td>-0.8451</td>  <td>0.2145</td>   <td>-3.9408</td> <td>0.0001</td> <td>-1.2654</td> <td>-0.4248</td>\n",
       "</tr>\n",
       "<tr>\n",
       "  <th>job_unemployed</th>  <td>-1.1728</td>  <td>0.5423</td>   <td>-2.1626</td> <td>0.0306</td> <td>-2.2358</td> <td>-0.1099</td>\n",
       "</tr>\n",
       "</table>"
      ],
      "text/plain": [
       "<class 'statsmodels.iolib.summary2.Summary'>\n",
       "\"\"\"\n",
       "                         Results: Logit\n",
       "=================================================================\n",
       "Model:              Logit            Pseudo R-squared: 0.221     \n",
       "Dependent Variable: Subscription     AIC:              1432.3529 \n",
       "Date:               2019-10-23 10:23 BIC:              1467.3782 \n",
       "No. Observations:   2534             Log-Likelihood:   -710.18   \n",
       "Df Model:           5                LL-Null:          -911.54   \n",
       "Df Residuals:       2528             LLR p-value:      7.6550e-85\n",
       "Converged:          1.0000           Scale:            1.0000    \n",
       "No. Iterations:     7.0000                                       \n",
       "-----------------------------------------------------------------\n",
       "                  Coef.  Std.Err.    z     P>|z|   [0.025  0.975]\n",
       "-----------------------------------------------------------------\n",
       "const            -2.6898   0.1247 -21.5652 0.0000 -2.9342 -2.4453\n",
       "Housing Loan     -0.8939   0.1463  -6.1103 0.0000 -1.1807 -0.6072\n",
       "Personal Loan    -1.0428   0.2555  -4.0813 0.0000 -1.5436 -0.5420\n",
       "duration          0.0040   0.0002  16.2154 0.0000  0.0035  0.0045\n",
       "job_blue-collar  -0.8451   0.2145  -3.9408 0.0001 -1.2654 -0.4248\n",
       "job_unemployed   -1.1728   0.5423  -2.1626 0.0306 -2.2358 -0.1099\n",
       "=================================================================\n",
       "\n",
       "\"\"\""
      ]
     },
     "execution_count": 35,
     "metadata": {},
     "output_type": "execute_result"
    }
   ],
   "source": [
    "final_logit.summary2()"
   ]
  },
  {
   "cell_type": "code",
   "execution_count": 36,
   "metadata": {},
   "outputs": [],
   "source": [
    "Y_pred_df = pd.DataFrame({\"actual\": Y_test, \"predicted_prob\": final_logit.predict(sm.add_constant(X_test[significant_vars]))})"
   ]
  },
  {
   "cell_type": "code",
   "execution_count": 37,
   "metadata": {},
   "outputs": [
    {
     "data": {
      "text/html": [
       "<div>\n",
       "<style scoped>\n",
       "    .dataframe tbody tr th:only-of-type {\n",
       "        vertical-align: middle;\n",
       "    }\n",
       "\n",
       "    .dataframe tbody tr th {\n",
       "        vertical-align: top;\n",
       "    }\n",
       "\n",
       "    .dataframe thead th {\n",
       "        text-align: right;\n",
       "    }\n",
       "</style>\n",
       "<table border=\"1\" class=\"dataframe\">\n",
       "  <thead>\n",
       "    <tr style=\"text-align: right;\">\n",
       "      <th></th>\n",
       "      <th>actual</th>\n",
       "      <th>predicted_prob</th>\n",
       "    </tr>\n",
       "  </thead>\n",
       "  <tbody>\n",
       "    <tr>\n",
       "      <th>2699</th>\n",
       "      <td>0</td>\n",
       "      <td>0.041067</td>\n",
       "    </tr>\n",
       "    <tr>\n",
       "      <th>1650</th>\n",
       "      <td>0</td>\n",
       "      <td>0.068950</td>\n",
       "    </tr>\n",
       "    <tr>\n",
       "      <th>3337</th>\n",
       "      <td>0</td>\n",
       "      <td>0.016906</td>\n",
       "    </tr>\n",
       "    <tr>\n",
       "      <th>925</th>\n",
       "      <td>0</td>\n",
       "      <td>0.038908</td>\n",
       "    </tr>\n",
       "    <tr>\n",
       "      <th>528</th>\n",
       "      <td>0</td>\n",
       "      <td>0.041266</td>\n",
       "    </tr>\n",
       "    <tr>\n",
       "      <th>1688</th>\n",
       "      <td>0</td>\n",
       "      <td>0.047025</td>\n",
       "    </tr>\n",
       "    <tr>\n",
       "      <th>1539</th>\n",
       "      <td>0</td>\n",
       "      <td>0.012266</td>\n",
       "    </tr>\n",
       "    <tr>\n",
       "      <th>69</th>\n",
       "      <td>0</td>\n",
       "      <td>0.116030</td>\n",
       "    </tr>\n",
       "    <tr>\n",
       "      <th>761</th>\n",
       "      <td>0</td>\n",
       "      <td>0.016707</td>\n",
       "    </tr>\n",
       "    <tr>\n",
       "      <th>1356</th>\n",
       "      <td>0</td>\n",
       "      <td>0.139035</td>\n",
       "    </tr>\n",
       "  </tbody>\n",
       "</table>\n",
       "</div>"
      ],
      "text/plain": [
       "      actual  predicted_prob\n",
       "2699       0        0.041067\n",
       "1650       0        0.068950\n",
       "3337       0        0.016906\n",
       "925        0        0.038908\n",
       "528        0        0.041266\n",
       "1688       0        0.047025\n",
       "1539       0        0.012266\n",
       "69         0        0.116030\n",
       "761        0        0.016707\n",
       "1356       0        0.139035"
      ]
     },
     "execution_count": 37,
     "metadata": {},
     "output_type": "execute_result"
    }
   ],
   "source": [
    "Y_pred_df.sample(10,random_state = 42)"
   ]
  },
  {
   "cell_type": "code",
   "execution_count": 38,
   "metadata": {},
   "outputs": [],
   "source": [
    "Y_pred_df['predicted'] = Y_pred_df.predicted_prob.map(lambda x: 1 if x >0.5 else 0)"
   ]
  },
  {
   "cell_type": "code",
   "execution_count": 39,
   "metadata": {},
   "outputs": [
    {
     "data": {
      "text/html": [
       "<div>\n",
       "<style scoped>\n",
       "    .dataframe tbody tr th:only-of-type {\n",
       "        vertical-align: middle;\n",
       "    }\n",
       "\n",
       "    .dataframe tbody tr th {\n",
       "        vertical-align: top;\n",
       "    }\n",
       "\n",
       "    .dataframe thead th {\n",
       "        text-align: right;\n",
       "    }\n",
       "</style>\n",
       "<table border=\"1\" class=\"dataframe\">\n",
       "  <thead>\n",
       "    <tr style=\"text-align: right;\">\n",
       "      <th></th>\n",
       "      <th>actual</th>\n",
       "      <th>predicted_prob</th>\n",
       "      <th>predicted</th>\n",
       "    </tr>\n",
       "  </thead>\n",
       "  <tbody>\n",
       "    <tr>\n",
       "      <th>2699</th>\n",
       "      <td>0</td>\n",
       "      <td>0.041067</td>\n",
       "      <td>0</td>\n",
       "    </tr>\n",
       "    <tr>\n",
       "      <th>1650</th>\n",
       "      <td>0</td>\n",
       "      <td>0.068950</td>\n",
       "      <td>0</td>\n",
       "    </tr>\n",
       "    <tr>\n",
       "      <th>3337</th>\n",
       "      <td>0</td>\n",
       "      <td>0.016906</td>\n",
       "      <td>0</td>\n",
       "    </tr>\n",
       "    <tr>\n",
       "      <th>925</th>\n",
       "      <td>0</td>\n",
       "      <td>0.038908</td>\n",
       "      <td>0</td>\n",
       "    </tr>\n",
       "    <tr>\n",
       "      <th>528</th>\n",
       "      <td>0</td>\n",
       "      <td>0.041266</td>\n",
       "      <td>0</td>\n",
       "    </tr>\n",
       "    <tr>\n",
       "      <th>1688</th>\n",
       "      <td>0</td>\n",
       "      <td>0.047025</td>\n",
       "      <td>0</td>\n",
       "    </tr>\n",
       "    <tr>\n",
       "      <th>1539</th>\n",
       "      <td>0</td>\n",
       "      <td>0.012266</td>\n",
       "      <td>0</td>\n",
       "    </tr>\n",
       "    <tr>\n",
       "      <th>69</th>\n",
       "      <td>0</td>\n",
       "      <td>0.116030</td>\n",
       "      <td>0</td>\n",
       "    </tr>\n",
       "    <tr>\n",
       "      <th>761</th>\n",
       "      <td>0</td>\n",
       "      <td>0.016707</td>\n",
       "      <td>0</td>\n",
       "    </tr>\n",
       "    <tr>\n",
       "      <th>1356</th>\n",
       "      <td>0</td>\n",
       "      <td>0.139035</td>\n",
       "      <td>0</td>\n",
       "    </tr>\n",
       "  </tbody>\n",
       "</table>\n",
       "</div>"
      ],
      "text/plain": [
       "      actual  predicted_prob  predicted\n",
       "2699       0        0.041067          0\n",
       "1650       0        0.068950          0\n",
       "3337       0        0.016906          0\n",
       "925        0        0.038908          0\n",
       "528        0        0.041266          0\n",
       "1688       0        0.047025          0\n",
       "1539       0        0.012266          0\n",
       "69         0        0.116030          0\n",
       "761        0        0.016707          0\n",
       "1356       0        0.139035          0"
      ]
     },
     "execution_count": 39,
     "metadata": {},
     "output_type": "execute_result"
    }
   ],
   "source": [
    "Y_pred_df.sample(10,random_state = 42)"
   ]
  },
  {
   "cell_type": "code",
   "execution_count": 40,
   "metadata": {},
   "outputs": [],
   "source": [
    "import matplotlib.pyplot as plt\n",
    "import seaborn as sn\n",
    "%matplotlib inline"
   ]
  },
  {
   "cell_type": "code",
   "execution_count": 42,
   "metadata": {},
   "outputs": [],
   "source": [
    "from sklearn import metrics\n",
    "def draw_cm(actual, predicted):\n",
    "    cm = metrics.confusion_matrix(actual, predicted, [1,0])\n",
    "    sn.heatmap(cm, annot=True, fmt='0.2f', \n",
    "               xticklabels = [\"failure\",\"success\"],\n",
    "               yticklabels = [\"failure\",\"success\"])\n",
    "    plt.ylabel('True label')\n",
    "    plt.xlabel('Predicted label')\n",
    "    plt.show()"
   ]
  },
  {
   "cell_type": "code",
   "execution_count": 43,
   "metadata": {},
   "outputs": [
    {
     "data": {
      "image/png": "[encoded data removed]",
      "text/plain": [
       "<Figure size 432x288 with 2 Axes>"
      ]
     },
     "metadata": {
      "needs_background": "light"
     },
     "output_type": "display_data"
    }
   ],
   "source": [
    "draw_cm(Y_pred_df.actual,Y_pred_df.predicted)"
   ]
  },
  {
   "cell_type": "code",
   "execution_count": 44,
   "metadata": {},
   "outputs": [
    {
     "name": "stdout",
     "output_type": "stream",
     "text": [
      "             precision    recall  f1-score   support\n",
      "\n",
      "          0       0.91      0.98      0.94       971\n",
      "          1       0.51      0.18      0.27       115\n",
      "\n",
      "avg / total       0.87      0.90      0.87      1086\n",
      "\n"
     ]
    }
   ],
   "source": [
    "print(metrics.classification_report(Y_pred_df.actual,Y_pred_df.predicted))"
   ]
  },
  {
   "cell_type": "code",
   "execution_count": 45,
   "metadata": {},
   "outputs": [],
   "source": [
    "def draw_roc(actual,probs):\n",
    "    fpr,    tpr,    thresholds = metrics.roc_curve(actual,probs,drop_intermediate = True)\n",
    "    auc_score = metrics.roc_auc_score(actual,probs)\n",
    "    plt.figure(figsize = (12,8))\n",
    "    plt.plot(fpr, tpr, label='ROC Curve (area = %0.2f)' %auc_score)\n",
    "    plt.plot([0,1],[0,1],'k--')\n",
    "    plt.xlim([0.0,1.0])\n",
    "    plt.ylim([0.0,1.05])\n",
    "    plt.xlabel('False Positive Rate')\n",
    "    plt.ylabel('True Positive Rate')\n",
    "    plt.legend(loc=\"lower right\")\n",
    "    plt.show()\n",
    "    return thresholds"
   ]
  },
  {
   "cell_type": "code",
   "execution_count": 46,
   "metadata": {},
   "outputs": [
    {
     "data": {
      "image/png": "[encoded data removed]",
      "text/plain": [
       "<Figure size 864x576 with 1 Axes>"
      ]
     },
     "metadata": {
      "needs_background": "light"
     },
     "output_type": "display_data"
    }
   ],
   "source": [
    "thresholds = draw_roc(Y_pred_df.actual,Y_pred_df.predicted_prob)"
   ]
  }
 ],
 "metadata": {
  "kernelspec": {
   "display_name": "Python 3",
   "language": "python",
   "name": "python3"
  },
  "language_info": {
   "codemirror_mode": {
    "name": "ipython",
    "version": 3
   },
   "file_extension": ".py",
   "mimetype": "text/x-python",
   "name": "python",
   "nbconvert_exporter": "python",
   "pygments_lexer": "ipython3",
   "version": "3.7.4"
  }
 },
 "nbformat": 4,
 "nbformat_minor": 2
}
