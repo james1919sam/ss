{
 "cells": [
  {
   "cell_type": "code",
   "execution_count": 2,
   "metadata": {},
   "outputs": [],
   "source": [
    "#reading and displaying few records from the dataset\n",
    "import pandas as pd\n",
    "import numpy as np"
   ]
  },
  {
   "cell_type": "code",
   "execution_count": 3,
   "metadata": {},
   "outputs": [],
   "source": [
    "credit_df = pd.read_csv(r\"C:\\Users\\dell\\Desktop\\Current\\Machine Learning\\Python Programs\\PYTHON_DATA\\GERMAN_CREDIT_RATING.csv\")"
   ]
  },
  {
   "cell_type": "code",
   "execution_count": 4,
   "metadata": {},
   "outputs": [
    {
     "data": {
      "text/html": [
       "<div>\n",
       "<style scoped>\n",
       "    .dataframe tbody tr th:only-of-type {\n",
       "        vertical-align: middle;\n",
       "    }\n",
       "\n",
       "    .dataframe tbody tr th {\n",
       "        vertical-align: top;\n",
       "    }\n",
       "\n",
       "    .dataframe thead th {\n",
       "        text-align: right;\n",
       "    }\n",
       "</style>\n",
       "<table border=\"1\" class=\"dataframe\">\n",
       "  <thead>\n",
       "    <tr style=\"text-align: right;\">\n",
       "      <th></th>\n",
       "      <th>S.No</th>\n",
       "      <th>CHK_ACCT</th>\n",
       "      <th>Duration</th>\n",
       "      <th>Credit History</th>\n",
       "      <th>Credit Amount</th>\n",
       "      <th>Balance in Savings A/C</th>\n",
       "      <th>Employment</th>\n",
       "      <th>Install_rate</th>\n",
       "      <th>Marital status</th>\n",
       "      <th>Present Resident</th>\n",
       "      <th>Age</th>\n",
       "      <th>Other installment</th>\n",
       "      <th>Num_Credits</th>\n",
       "      <th>Job</th>\n",
       "      <th>Credit classification</th>\n",
       "      <th>Credit_Rating</th>\n",
       "    </tr>\n",
       "  </thead>\n",
       "  <tbody>\n",
       "    <tr>\n",
       "      <td>0</td>\n",
       "      <td>1</td>\n",
       "      <td>0DM</td>\n",
       "      <td>6</td>\n",
       "      <td>critical</td>\n",
       "      <td>1169</td>\n",
       "      <td>unknown</td>\n",
       "      <td>over-seven</td>\n",
       "      <td>4</td>\n",
       "      <td>Single</td>\n",
       "      <td>4</td>\n",
       "      <td>67</td>\n",
       "      <td>1</td>\n",
       "      <td>2</td>\n",
       "      <td>Unskilled</td>\n",
       "      <td>good.</td>\n",
       "      <td>0</td>\n",
       "    </tr>\n",
       "    <tr>\n",
       "      <td>1</td>\n",
       "      <td>2</td>\n",
       "      <td>less-200DM</td>\n",
       "      <td>48</td>\n",
       "      <td>all-paid-duly</td>\n",
       "      <td>5951</td>\n",
       "      <td>less100DM</td>\n",
       "      <td>four-years</td>\n",
       "      <td>2</td>\n",
       "      <td>female-divorced</td>\n",
       "      <td>2</td>\n",
       "      <td>22</td>\n",
       "      <td>0</td>\n",
       "      <td>1</td>\n",
       "      <td>skilled</td>\n",
       "      <td>bad.</td>\n",
       "      <td>1</td>\n",
       "    </tr>\n",
       "    <tr>\n",
       "      <td>2</td>\n",
       "      <td>3</td>\n",
       "      <td>no-account</td>\n",
       "      <td>12</td>\n",
       "      <td>critical</td>\n",
       "      <td>2096</td>\n",
       "      <td>less100DM</td>\n",
       "      <td>seven-years</td>\n",
       "      <td>2</td>\n",
       "      <td>Single</td>\n",
       "      <td>3</td>\n",
       "      <td>49</td>\n",
       "      <td>0</td>\n",
       "      <td>1</td>\n",
       "      <td>Unskilled</td>\n",
       "      <td>good.</td>\n",
       "      <td>0</td>\n",
       "    </tr>\n",
       "    <tr>\n",
       "      <td>3</td>\n",
       "      <td>4</td>\n",
       "      <td>0DM</td>\n",
       "      <td>42</td>\n",
       "      <td>all-paid-duly</td>\n",
       "      <td>7882</td>\n",
       "      <td>less100DM</td>\n",
       "      <td>seven-years</td>\n",
       "      <td>2</td>\n",
       "      <td>Single</td>\n",
       "      <td>4</td>\n",
       "      <td>45</td>\n",
       "      <td>0</td>\n",
       "      <td>1</td>\n",
       "      <td>skilled</td>\n",
       "      <td>good.</td>\n",
       "      <td>0</td>\n",
       "    </tr>\n",
       "    <tr>\n",
       "      <td>4</td>\n",
       "      <td>5</td>\n",
       "      <td>0DM</td>\n",
       "      <td>24</td>\n",
       "      <td>delay</td>\n",
       "      <td>4870</td>\n",
       "      <td>less100DM</td>\n",
       "      <td>four-years</td>\n",
       "      <td>3</td>\n",
       "      <td>Single</td>\n",
       "      <td>4</td>\n",
       "      <td>53</td>\n",
       "      <td>1</td>\n",
       "      <td>2</td>\n",
       "      <td>skilled</td>\n",
       "      <td>bad.</td>\n",
       "      <td>1</td>\n",
       "    </tr>\n",
       "  </tbody>\n",
       "</table>\n",
       "</div>"
      ],
      "text/plain": [
       "   S.No    CHK_ACCT  Duration Credit History  Credit Amount  \\\n",
       "0     1         0DM         6       critical           1169   \n",
       "1     2  less-200DM        48  all-paid-duly           5951   \n",
       "2     3  no-account        12       critical           2096   \n",
       "3     4         0DM        42  all-paid-duly           7882   \n",
       "4     5         0DM        24          delay           4870   \n",
       "\n",
       "  Balance in Savings A/C    Employment  Install_rate    Marital status  \\\n",
       "0                unknown    over-seven             4            Single   \n",
       "1              less100DM    four-years             2   female-divorced   \n",
       "2              less100DM   seven-years             2            Single   \n",
       "3              less100DM   seven-years             2            Single   \n",
       "4              less100DM    four-years             3            Single   \n",
       "\n",
       "   Present Resident  Age  Other installment  Num_Credits        Job  \\\n",
       "0                 4   67                  1            2  Unskilled   \n",
       "1                 2   22                  0            1    skilled   \n",
       "2                 3   49                  0            1  Unskilled   \n",
       "3                 4   45                  0            1    skilled   \n",
       "4                 4   53                  1            2    skilled   \n",
       "\n",
       "  Credit classification  Credit_Rating  \n",
       "0                 good.              0  \n",
       "1                  bad.              1  \n",
       "2                 good.              0  \n",
       "3                 good.              0  \n",
       "4                  bad.              1  "
      ]
     },
     "execution_count": 4,
     "metadata": {},
     "output_type": "execute_result"
    }
   ],
   "source": [
    "credit_df.head()"
   ]
  },
  {
   "cell_type": "code",
   "execution_count": 5,
   "metadata": {},
   "outputs": [
    {
     "data": {
      "text/html": [
       "<div>\n",
       "<style scoped>\n",
       "    .dataframe tbody tr th:only-of-type {\n",
       "        vertical-align: middle;\n",
       "    }\n",
       "\n",
       "    .dataframe tbody tr th {\n",
       "        vertical-align: top;\n",
       "    }\n",
       "\n",
       "    .dataframe thead th {\n",
       "        text-align: right;\n",
       "    }\n",
       "</style>\n",
       "<table border=\"1\" class=\"dataframe\">\n",
       "  <thead>\n",
       "    <tr style=\"text-align: right;\">\n",
       "      <th></th>\n",
       "      <th>CHK_ACCT</th>\n",
       "      <th>Duration</th>\n",
       "      <th>Credit History</th>\n",
       "      <th>Credit Amount</th>\n",
       "      <th>Balance in Savings A/C</th>\n",
       "      <th>Employment</th>\n",
       "    </tr>\n",
       "  </thead>\n",
       "  <tbody>\n",
       "    <tr>\n",
       "      <th>0</th>\n",
       "      <td>0DM</td>\n",
       "      <td>6</td>\n",
       "      <td>critical</td>\n",
       "      <td>1169</td>\n",
       "      <td>unknown</td>\n",
       "      <td>over-seven</td>\n",
       "    </tr>\n",
       "    <tr>\n",
       "      <th>1</th>\n",
       "      <td>less-200DM</td>\n",
       "      <td>48</td>\n",
       "      <td>all-paid-duly</td>\n",
       "      <td>5951</td>\n",
       "      <td>less100DM</td>\n",
       "      <td>four-years</td>\n",
       "    </tr>\n",
       "    <tr>\n",
       "      <th>2</th>\n",
       "      <td>no-account</td>\n",
       "      <td>12</td>\n",
       "      <td>critical</td>\n",
       "      <td>2096</td>\n",
       "      <td>less100DM</td>\n",
       "      <td>seven-years</td>\n",
       "    </tr>\n",
       "    <tr>\n",
       "      <th>3</th>\n",
       "      <td>0DM</td>\n",
       "      <td>42</td>\n",
       "      <td>all-paid-duly</td>\n",
       "      <td>7882</td>\n",
       "      <td>less100DM</td>\n",
       "      <td>seven-years</td>\n",
       "    </tr>\n",
       "    <tr>\n",
       "      <th>4</th>\n",
       "      <td>0DM</td>\n",
       "      <td>24</td>\n",
       "      <td>delay</td>\n",
       "      <td>4870</td>\n",
       "      <td>less100DM</td>\n",
       "      <td>four-years</td>\n",
       "    </tr>\n",
       "  </tbody>\n",
       "</table>\n",
       "</div>"
      ],
      "text/plain": [
       "     CHK_ACCT  Duration Credit History  Credit Amount Balance in Savings A/C  \\\n",
       "0         0DM         6       critical           1169                unknown   \n",
       "1  less-200DM        48  all-paid-duly           5951              less100DM   \n",
       "2  no-account        12       critical           2096              less100DM   \n",
       "3         0DM        42  all-paid-duly           7882              less100DM   \n",
       "4         0DM        24          delay           4870              less100DM   \n",
       "\n",
       "     Employment  \n",
       "0    over-seven  \n",
       "1    four-years  \n",
       "2   seven-years  \n",
       "3   seven-years  \n",
       "4    four-years  "
      ]
     },
     "execution_count": 5,
     "metadata": {},
     "output_type": "execute_result"
    }
   ],
   "source": [
    "credit_df.iloc[0:5,1:7]"
   ]
  },
  {
   "cell_type": "code",
   "execution_count": 6,
   "metadata": {},
   "outputs": [
    {
     "data": {
      "text/html": [
       "<div>\n",
       "<style scoped>\n",
       "    .dataframe tbody tr th:only-of-type {\n",
       "        vertical-align: middle;\n",
       "    }\n",
       "\n",
       "    .dataframe tbody tr th {\n",
       "        vertical-align: top;\n",
       "    }\n",
       "\n",
       "    .dataframe thead th {\n",
       "        text-align: right;\n",
       "    }\n",
       "</style>\n",
       "<table border=\"1\" class=\"dataframe\">\n",
       "  <thead>\n",
       "    <tr style=\"text-align: right;\">\n",
       "      <th></th>\n",
       "      <th>Install_rate</th>\n",
       "      <th>Marital status</th>\n",
       "      <th>Present Resident</th>\n",
       "      <th>Age</th>\n",
       "      <th>Other installment</th>\n",
       "      <th>Num_Credits</th>\n",
       "      <th>Job</th>\n",
       "      <th>Credit classification</th>\n",
       "      <th>Credit_Rating</th>\n",
       "    </tr>\n",
       "  </thead>\n",
       "  <tbody>\n",
       "    <tr>\n",
       "      <th>0</th>\n",
       "      <td>4</td>\n",
       "      <td>Single</td>\n",
       "      <td>4</td>\n",
       "      <td>67</td>\n",
       "      <td>1</td>\n",
       "      <td>2</td>\n",
       "      <td>Unskilled</td>\n",
       "      <td>good.</td>\n",
       "      <td>0</td>\n",
       "    </tr>\n",
       "    <tr>\n",
       "      <th>1</th>\n",
       "      <td>2</td>\n",
       "      <td>female-divorced</td>\n",
       "      <td>2</td>\n",
       "      <td>22</td>\n",
       "      <td>0</td>\n",
       "      <td>1</td>\n",
       "      <td>skilled</td>\n",
       "      <td>bad.</td>\n",
       "      <td>1</td>\n",
       "    </tr>\n",
       "    <tr>\n",
       "      <th>2</th>\n",
       "      <td>2</td>\n",
       "      <td>Single</td>\n",
       "      <td>3</td>\n",
       "      <td>49</td>\n",
       "      <td>0</td>\n",
       "      <td>1</td>\n",
       "      <td>Unskilled</td>\n",
       "      <td>good.</td>\n",
       "      <td>0</td>\n",
       "    </tr>\n",
       "    <tr>\n",
       "      <th>3</th>\n",
       "      <td>2</td>\n",
       "      <td>Single</td>\n",
       "      <td>4</td>\n",
       "      <td>45</td>\n",
       "      <td>0</td>\n",
       "      <td>1</td>\n",
       "      <td>skilled</td>\n",
       "      <td>good.</td>\n",
       "      <td>0</td>\n",
       "    </tr>\n",
       "    <tr>\n",
       "      <th>4</th>\n",
       "      <td>3</td>\n",
       "      <td>Single</td>\n",
       "      <td>4</td>\n",
       "      <td>53</td>\n",
       "      <td>1</td>\n",
       "      <td>2</td>\n",
       "      <td>skilled</td>\n",
       "      <td>bad.</td>\n",
       "      <td>1</td>\n",
       "    </tr>\n",
       "  </tbody>\n",
       "</table>\n",
       "</div>"
      ],
      "text/plain": [
       "   Install_rate    Marital status  Present Resident  Age  Other installment  \\\n",
       "0             4            Single                 4   67                  1   \n",
       "1             2   female-divorced                 2   22                  0   \n",
       "2             2            Single                 3   49                  0   \n",
       "3             2            Single                 4   45                  0   \n",
       "4             3            Single                 4   53                  1   \n",
       "\n",
       "   Num_Credits        Job Credit classification  Credit_Rating  \n",
       "0            2  Unskilled                 good.              0  \n",
       "1            1    skilled                  bad.              1  \n",
       "2            1  Unskilled                 good.              0  \n",
       "3            1    skilled                 good.              0  \n",
       "4            2    skilled                  bad.              1  "
      ]
     },
     "execution_count": 6,
     "metadata": {},
     "output_type": "execute_result"
    }
   ],
   "source": [
    "credit_df.iloc[0:5,7:]"
   ]
  },
  {
   "cell_type": "code",
   "execution_count": 7,
   "metadata": {},
   "outputs": [
    {
     "data": {
      "text/plain": [
       "(800, 16)"
      ]
     },
     "execution_count": 7,
     "metadata": {},
     "output_type": "execute_result"
    }
   ],
   "source": [
    "credit_df.shape"
   ]
  },
  {
   "cell_type": "code",
   "execution_count": 8,
   "metadata": {},
   "outputs": [
    {
     "data": {
      "text/plain": [
       "0    561\n",
       "1    239\n",
       "Name: Credit_Rating, dtype: int64"
      ]
     },
     "execution_count": 8,
     "metadata": {},
     "output_type": "execute_result"
    }
   ],
   "source": [
    "#to find the number of posiive and negative observations in the response variable\n",
    "credit_df.Credit_Rating.value_counts()"
   ]
  },
  {
   "cell_type": "code",
   "execution_count": 9,
   "metadata": {},
   "outputs": [
    {
     "data": {
      "text/plain": [
       "['CHK_ACCT',\n",
       " 'Duration',\n",
       " 'Credit History',\n",
       " 'Credit Amount',\n",
       " 'Balance in Savings A/C',\n",
       " 'Employment',\n",
       " 'Install_rate',\n",
       " 'Marital status',\n",
       " 'Present Resident',\n",
       " 'Age',\n",
       " 'Other installment',\n",
       " 'Num_Credits',\n",
       " 'Job']"
      ]
     },
     "execution_count": 9,
     "metadata": {},
     "output_type": "execute_result"
    }
   ],
   "source": [
    "#creating a list of all independent variables \n",
    "X_features = list(credit_df)\n",
    "X_features.remove('Credit_Rating')\n",
    "X_features.remove('Credit classification')\n",
    "X_features.remove('S.No')\n",
    "X_features"
   ]
  },
  {
   "cell_type": "code",
   "execution_count": 10,
   "metadata": {},
   "outputs": [],
   "source": [
    "#Encoding Categorical Features\n",
    "encoded_credit_df = pd.get_dummies(credit_df[X_features],drop_first = True)"
   ]
  },
  {
   "cell_type": "code",
   "execution_count": 11,
   "metadata": {},
   "outputs": [
    {
     "data": {
      "text/plain": [
       "['Duration',\n",
       " 'Credit Amount',\n",
       " 'Install_rate',\n",
       " 'Present Resident',\n",
       " 'Age',\n",
       " 'Other installment',\n",
       " 'Num_Credits',\n",
       " 'CHK_ACCT_less-200DM',\n",
       " 'CHK_ACCT_no-account',\n",
       " 'CHK_ACCT_over-200DM',\n",
       " 'Credit History_ bank-paid-duly',\n",
       " 'Credit History_ critical',\n",
       " 'Credit History_ delay',\n",
       " 'Credit History_all-paid-duly',\n",
       " 'Balance in Savings A/C_ over1000DM',\n",
       " 'Balance in Savings A/C_ unknown',\n",
       " 'Balance in Savings A/C_Between 100 and 500 DM',\n",
       " 'Balance in Savings A/C_Between 500 and 1000 DM',\n",
       " 'Employment_ one-year',\n",
       " 'Employment_ over-seven',\n",
       " 'Employment_ seven-years',\n",
       " 'Employment_ unemployed',\n",
       " 'Marital status_ male-divorced',\n",
       " 'Marital status_Married',\n",
       " 'Marital status_Single',\n",
       " 'Job_ skilled',\n",
       " 'Job_Unemployed',\n",
       " 'Job_Unskilled']"
      ]
     },
     "execution_count": 11,
     "metadata": {},
     "output_type": "execute_result"
    }
   ],
   "source": [
    "list(encoded_credit_df.columns)"
   ]
  },
  {
   "cell_type": "code",
   "execution_count": 12,
   "metadata": {},
   "outputs": [],
   "source": [
    "#defining X and Y features for model building\n",
    "import statsmodels.api as sm \n",
    "Y = credit_df.Credit_Rating\n",
    "X = sm.add_constant(encoded_credit_df)"
   ]
  },
  {
   "cell_type": "code",
   "execution_count": 13,
   "metadata": {},
   "outputs": [],
   "source": [
    "#splitting the dataset into training and testing set\n",
    "from sklearn.model_selection import train_test_split\n",
    "X_train,X_test,Y_train,Y_test = train_test_split(X,Y,test_size = 0.3,random_state = 42)"
   ]
  },
  {
   "cell_type": "code",
   "execution_count": 14,
   "metadata": {},
   "outputs": [
    {
     "name": "stdout",
     "output_type": "stream",
     "text": [
      "Optimization terminated successfully.\n",
      "         Current function value: 0.492026\n",
      "         Iterations 6\n"
     ]
    }
   ],
   "source": [
    "#building the logistic regression model\n",
    "import statsmodels.api as sm\n",
    "logit = sm.Logit(Y_train,X_train)\n",
    "logit_model = logit.fit() \n"
   ]
  },
  {
   "cell_type": "code",
   "execution_count": 15,
   "metadata": {},
   "outputs": [
    {
     "data": {
      "text/html": [
       "<table class=\"simpletable\">\n",
       "<tr>\n",
       "        <td>Model:</td>              <td>Logit</td>      <td>Pseudo R-squared:</td>    <td>0.213</td>  \n",
       "</tr>\n",
       "<tr>\n",
       "  <td>Dependent Variable:</td>   <td>Credit_Rating</td>        <td>AIC:</td>         <td>609.0691</td> \n",
       "</tr>\n",
       "<tr>\n",
       "         <td>Date:</td>        <td>2019-12-02 14:58</td>       <td>BIC:</td>         <td>734.5793</td> \n",
       "</tr>\n",
       "<tr>\n",
       "   <td>No. Observations:</td>         <td>560</td>        <td>Log-Likelihood:</td>    <td>-275.53</td> \n",
       "</tr>\n",
       "<tr>\n",
       "       <td>Df Model:</td>             <td>28</td>            <td>LL-Null:</td>        <td>-350.14</td> \n",
       "</tr>\n",
       "<tr>\n",
       "     <td>Df Residuals:</td>           <td>531</td>         <td>LLR p-value:</td>    <td>1.7139e-18</td>\n",
       "</tr>\n",
       "<tr>\n",
       "      <td>Converged:</td>           <td>1.0000</td>           <td>Scale:</td>         <td>1.0000</td>  \n",
       "</tr>\n",
       "<tr>\n",
       "    <td>No. Iterations:</td>        <td>6.0000</td>              <td></td>               <td></td>     \n",
       "</tr>\n",
       "</table>\n",
       "<table class=\"simpletable\">\n",
       "<tr>\n",
       "                         <td></td>                         <th>Coef.</th>  <th>Std.Err.</th>    <th>z</th>     <th>P>|z|</th> <th>[0.025</th>  <th>0.975]</th> \n",
       "</tr>\n",
       "<tr>\n",
       "  <th>const</th>                                          <td>-0.0754</td>  <td>0.9798</td>  <td>-0.0769</td> <td>0.9387</td> <td>-1.9957</td> <td>1.8450</td> \n",
       "</tr>\n",
       "<tr>\n",
       "  <th>Duration</th>                                       <td>0.0104</td>   <td>0.0117</td>  <td>0.8865</td>  <td>0.3754</td> <td>-0.0125</td> <td>0.0333</td> \n",
       "</tr>\n",
       "<tr>\n",
       "  <th>Credit Amount</th>                                  <td>0.0002</td>   <td>0.0001</td>  <td>2.7682</td>  <td>0.0056</td> <td>0.0000</td>  <td>0.0003</td> \n",
       "</tr>\n",
       "<tr>\n",
       "  <th>Install_rate</th>                                   <td>0.3399</td>   <td>0.1090</td>  <td>3.1168</td>  <td>0.0018</td> <td>0.1262</td>  <td>0.5536</td> \n",
       "</tr>\n",
       "<tr>\n",
       "  <th>Present Resident</th>                               <td>0.0719</td>   <td>0.1037</td>  <td>0.6933</td>  <td>0.4881</td> <td>-0.1313</td> <td>0.2751</td> \n",
       "</tr>\n",
       "<tr>\n",
       "  <th>Age</th>                                            <td>-0.0257</td>  <td>0.0112</td>  <td>-2.2941</td> <td>0.0218</td> <td>-0.0477</td> <td>-0.0037</td>\n",
       "</tr>\n",
       "<tr>\n",
       "  <th>Other installment</th>                              <td>0.4044</td>   <td>0.3369</td>  <td>1.2003</td>  <td>0.2300</td> <td>-0.2560</td> <td>1.0649</td> \n",
       "</tr>\n",
       "<tr>\n",
       "  <th>Num_Credits</th>                                    <td>0.0021</td>   <td>0.3082</td>  <td>0.0069</td>  <td>0.9945</td> <td>-0.6019</td> <td>0.6062</td> \n",
       "</tr>\n",
       "<tr>\n",
       "  <th>CHK_ACCT_less-200DM</th>                            <td>-0.0610</td>  <td>0.2672</td>  <td>-0.2282</td> <td>0.8195</td> <td>-0.5847</td> <td>0.4628</td> \n",
       "</tr>\n",
       "<tr>\n",
       "  <th>CHK_ACCT_no-account</th>                            <td>-1.6015</td>  <td>0.2895</td>  <td>-5.5329</td> <td>0.0000</td> <td>-2.1688</td> <td>-1.0342</td>\n",
       "</tr>\n",
       "<tr>\n",
       "  <th>CHK_ACCT_over-200DM</th>                            <td>-1.0831</td>  <td>0.4588</td>  <td>-2.3608</td> <td>0.0182</td> <td>-1.9822</td> <td>-0.1839</td>\n",
       "</tr>\n",
       "<tr>\n",
       "  <th>Credit History_ bank-paid-duly</th>                 <td>-0.0308</td>  <td>0.7102</td>  <td>-0.0434</td> <td>0.9654</td> <td>-1.4228</td> <td>1.3612</td> \n",
       "</tr>\n",
       "<tr>\n",
       "  <th>Credit History_ critical</th>                       <td>-1.6016</td>  <td>0.5342</td>  <td>-2.9983</td> <td>0.0027</td> <td>-2.6485</td> <td>-0.5546</td>\n",
       "</tr>\n",
       "<tr>\n",
       "  <th>Credit History_ delay</th>                          <td>-1.2848</td>  <td>0.5941</td>  <td>-2.1625</td> <td>0.0306</td> <td>-2.4492</td> <td>-0.1203</td>\n",
       "</tr>\n",
       "<tr>\n",
       "  <th>Credit History_all-paid-duly</th>                   <td>-0.8586</td>  <td>0.5270</td>  <td>-1.6290</td> <td>0.1033</td> <td>-1.8916</td> <td>0.1744</td> \n",
       "</tr>\n",
       "<tr>\n",
       "  <th>Balance in Savings A/C_ over1000DM</th>             <td>-0.9318</td>  <td>0.6180</td>  <td>-1.5077</td> <td>0.1316</td> <td>-2.1431</td> <td>0.2795</td> \n",
       "</tr>\n",
       "<tr>\n",
       "  <th>Balance in Savings A/C_ unknown</th>                <td>-0.5656</td>  <td>0.3035</td>  <td>-1.8633</td> <td>0.0624</td> <td>-1.1605</td> <td>0.0293</td> \n",
       "</tr>\n",
       "<tr>\n",
       "  <th>Balance in Savings A/C_Between 100 and 500 DM</th>  <td>0.0751</td>   <td>0.3427</td>  <td>0.2191</td>  <td>0.8265</td> <td>-0.5966</td> <td>0.7467</td> \n",
       "</tr>\n",
       "<tr>\n",
       "  <th>Balance in Savings A/C_Between 500 and 1000 DM</th> <td>-0.9037</td>  <td>0.6552</td>  <td>-1.3793</td> <td>0.1678</td> <td>-2.1878</td> <td>0.3805</td> \n",
       "</tr>\n",
       "<tr>\n",
       "  <th>Employment_ one-year</th>                           <td>0.1437</td>   <td>0.3070</td>  <td>0.4681</td>  <td>0.6397</td> <td>-0.4580</td> <td>0.7454</td> \n",
       "</tr>\n",
       "<tr>\n",
       "  <th>Employment_ over-seven</th>                         <td>-0.2775</td>  <td>0.3170</td>  <td>-0.8754</td> <td>0.3814</td> <td>-0.8989</td> <td>0.3439</td> \n",
       "</tr>\n",
       "<tr>\n",
       "  <th>Employment_ seven-years</th>                        <td>-0.5425</td>  <td>0.3308</td>  <td>-1.6397</td> <td>0.1011</td> <td>-1.1909</td> <td>0.1059</td> \n",
       "</tr>\n",
       "<tr>\n",
       "  <th>Employment_ unemployed</th>                         <td>0.3238</td>   <td>0.5229</td>  <td>0.6192</td>  <td>0.5358</td> <td>-0.7012</td> <td>1.3487</td> \n",
       "</tr>\n",
       "<tr>\n",
       "  <th>Marital status_ male-divorced</th>                  <td>0.3935</td>   <td>0.4841</td>  <td>0.8129</td>  <td>0.4163</td> <td>-0.5553</td> <td>1.3423</td> \n",
       "</tr>\n",
       "<tr>\n",
       "  <th>Marital status_Married</th>                         <td>0.1876</td>   <td>0.3810</td>  <td>0.4923</td>  <td>0.6225</td> <td>-0.5591</td> <td>0.9342</td> \n",
       "</tr>\n",
       "<tr>\n",
       "  <th>Marital status_Single</th>                          <td>-0.4298</td>  <td>0.2571</td>  <td>-1.6722</td> <td>0.0945</td> <td>-0.9337</td> <td>0.0740</td> \n",
       "</tr>\n",
       "<tr>\n",
       "  <th>Job_ skilled</th>                                   <td>0.1159</td>   <td>0.3504</td>  <td>0.3308</td>  <td>0.7408</td> <td>-0.5708</td> <td>0.8026</td> \n",
       "</tr>\n",
       "<tr>\n",
       "  <th>Job_Unemployed</th>                                 <td>-0.3676</td>  <td>0.7787</td>  <td>-0.4720</td> <td>0.6369</td> <td>-1.8939</td> <td>1.1587</td> \n",
       "</tr>\n",
       "<tr>\n",
       "  <th>Job_Unskilled</th>                                  <td>-0.0018</td>  <td>0.4084</td>  <td>-0.0045</td> <td>0.9964</td> <td>-0.8022</td> <td>0.7985</td> \n",
       "</tr>\n",
       "</table>"
      ],
      "text/plain": [
       "<class 'statsmodels.iolib.summary2.Summary'>\n",
       "\"\"\"\n",
       "                                        Results: Logit\n",
       "==============================================================================================\n",
       "Model:                         Logit                     Pseudo R-squared:          0.213     \n",
       "Dependent Variable:            Credit_Rating             AIC:                       609.0691  \n",
       "Date:                          2019-12-02 14:58          BIC:                       734.5793  \n",
       "No. Observations:              560                       Log-Likelihood:            -275.53   \n",
       "Df Model:                      28                        LL-Null:                   -350.14   \n",
       "Df Residuals:                  531                       LLR p-value:               1.7139e-18\n",
       "Converged:                     1.0000                    Scale:                     1.0000    \n",
       "No. Iterations:                6.0000                                                         \n",
       "----------------------------------------------------------------------------------------------\n",
       "                                                Coef.  Std.Err.    z    P>|z|   [0.025  0.975]\n",
       "----------------------------------------------------------------------------------------------\n",
       "const                                          -0.0754   0.9798 -0.0769 0.9387 -1.9957  1.8450\n",
       "Duration                                        0.0104   0.0117  0.8865 0.3754 -0.0125  0.0333\n",
       "Credit Amount                                   0.0002   0.0001  2.7682 0.0056  0.0000  0.0003\n",
       "Install_rate                                    0.3399   0.1090  3.1168 0.0018  0.1262  0.5536\n",
       "Present Resident                                0.0719   0.1037  0.6933 0.4881 -0.1313  0.2751\n",
       "Age                                            -0.0257   0.0112 -2.2941 0.0218 -0.0477 -0.0037\n",
       "Other installment                               0.4044   0.3369  1.2003 0.2300 -0.2560  1.0649\n",
       "Num_Credits                                     0.0021   0.3082  0.0069 0.9945 -0.6019  0.6062\n",
       "CHK_ACCT_less-200DM                            -0.0610   0.2672 -0.2282 0.8195 -0.5847  0.4628\n",
       "CHK_ACCT_no-account                            -1.6015   0.2895 -5.5329 0.0000 -2.1688 -1.0342\n",
       "CHK_ACCT_over-200DM                            -1.0831   0.4588 -2.3608 0.0182 -1.9822 -0.1839\n",
       "Credit History_ bank-paid-duly                 -0.0308   0.7102 -0.0434 0.9654 -1.4228  1.3612\n",
       "Credit History_ critical                       -1.6016   0.5342 -2.9983 0.0027 -2.6485 -0.5546\n",
       "Credit History_ delay                          -1.2848   0.5941 -2.1625 0.0306 -2.4492 -0.1203\n",
       "Credit History_all-paid-duly                   -0.8586   0.5270 -1.6290 0.1033 -1.8916  0.1744\n",
       "Balance in Savings A/C_ over1000DM             -0.9318   0.6180 -1.5077 0.1316 -2.1431  0.2795\n",
       "Balance in Savings A/C_ unknown                -0.5656   0.3035 -1.8633 0.0624 -1.1605  0.0293\n",
       "Balance in Savings A/C_Between 100 and 500 DM   0.0751   0.3427  0.2191 0.8265 -0.5966  0.7467\n",
       "Balance in Savings A/C_Between 500 and 1000 DM -0.9037   0.6552 -1.3793 0.1678 -2.1878  0.3805\n",
       "Employment_ one-year                            0.1437   0.3070  0.4681 0.6397 -0.4580  0.7454\n",
       "Employment_ over-seven                         -0.2775   0.3170 -0.8754 0.3814 -0.8989  0.3439\n",
       "Employment_ seven-years                        -0.5425   0.3308 -1.6397 0.1011 -1.1909  0.1059\n",
       "Employment_ unemployed                          0.3238   0.5229  0.6192 0.5358 -0.7012  1.3487\n",
       "Marital status_ male-divorced                   0.3935   0.4841  0.8129 0.4163 -0.5553  1.3423\n",
       "Marital status_Married                          0.1876   0.3810  0.4923 0.6225 -0.5591  0.9342\n",
       "Marital status_Single                          -0.4298   0.2571 -1.6722 0.0945 -0.9337  0.0740\n",
       "Job_ skilled                                    0.1159   0.3504  0.3308 0.7408 -0.5708  0.8026\n",
       "Job_Unemployed                                 -0.3676   0.7787 -0.4720 0.6369 -1.8939  1.1587\n",
       "Job_Unskilled                                  -0.0018   0.4084 -0.0045 0.9964 -0.8022  0.7985\n",
       "==============================================================================================\n",
       "\n",
       "\"\"\""
      ]
     },
     "execution_count": 15,
     "metadata": {},
     "output_type": "execute_result"
    }
   ],
   "source": [
    "logit_model.summary2()"
   ]
  },
  {
   "cell_type": "code",
   "execution_count": 16,
   "metadata": {},
   "outputs": [],
   "source": [
    "#model diagnostics\n",
    "def get_significant_vars(x):\n",
    "    var_p_vals_df = pd.DataFrame(x.pvalues)\n",
    "    #print(var_p_vals_df)\n",
    "    var_p_vals_df['vars'] = var_p_vals_df.index\n",
    "    var_p_vals_df.columns = ['pvals','vars']\n",
    "    #print(var_p_vals_df['pvals'],var_p_vals_df['vars'])\n",
    "    return list(var_p_vals_df[var_p_vals_df.pvals<=0.05][\"vars\"])"
   ]
  },
  {
   "cell_type": "code",
   "execution_count": 17,
   "metadata": {},
   "outputs": [],
   "source": [
    "significant_vars = get_significant_vars(logit_model)"
   ]
  },
  {
   "cell_type": "code",
   "execution_count": 18,
   "metadata": {},
   "outputs": [
    {
     "data": {
      "text/plain": [
       "['Credit Amount',\n",
       " 'Install_rate',\n",
       " 'Age',\n",
       " 'CHK_ACCT_no-account',\n",
       " 'CHK_ACCT_over-200DM',\n",
       " 'Credit History_ critical',\n",
       " 'Credit History_ delay']"
      ]
     },
     "execution_count": 18,
     "metadata": {},
     "output_type": "execute_result"
    }
   ],
   "source": [
    "significant_vars"
   ]
  },
  {
   "cell_type": "code",
   "execution_count": 19,
   "metadata": {},
   "outputs": [
    {
     "name": "stdout",
     "output_type": "stream",
     "text": [
      "Optimization terminated successfully.\n",
      "         Current function value: 0.521081\n",
      "         Iterations 6\n"
     ]
    }
   ],
   "source": [
    "final_logit = sm.Logit(Y_train,sm.add_constant(X_train[significant_vars])).fit()"
   ]
  },
  {
   "cell_type": "code",
   "execution_count": 20,
   "metadata": {},
   "outputs": [
    {
     "data": {
      "text/html": [
       "<table class=\"simpletable\">\n",
       "<tr>\n",
       "        <td>Model:</td>              <td>Logit</td>      <td>Pseudo R-squared:</td>    <td>0.167</td>  \n",
       "</tr>\n",
       "<tr>\n",
       "  <td>Dependent Variable:</td>   <td>Credit_Rating</td>        <td>AIC:</td>         <td>599.6102</td> \n",
       "</tr>\n",
       "<tr>\n",
       "         <td>Date:</td>        <td>2019-12-02 14:58</td>       <td>BIC:</td>         <td>634.2337</td> \n",
       "</tr>\n",
       "<tr>\n",
       "   <td>No. Observations:</td>         <td>560</td>        <td>Log-Likelihood:</td>    <td>-291.81</td> \n",
       "</tr>\n",
       "<tr>\n",
       "       <td>Df Model:</td>              <td>7</td>            <td>LL-Null:</td>        <td>-350.14</td> \n",
       "</tr>\n",
       "<tr>\n",
       "     <td>Df Residuals:</td>           <td>552</td>         <td>LLR p-value:</td>    <td>3.7922e-22</td>\n",
       "</tr>\n",
       "<tr>\n",
       "      <td>Converged:</td>           <td>1.0000</td>           <td>Scale:</td>         <td>1.0000</td>  \n",
       "</tr>\n",
       "<tr>\n",
       "    <td>No. Iterations:</td>        <td>6.0000</td>              <td></td>               <td></td>     \n",
       "</tr>\n",
       "</table>\n",
       "<table class=\"simpletable\">\n",
       "<tr>\n",
       "              <td></td>              <th>Coef.</th>  <th>Std.Err.</th>    <th>z</th>     <th>P>|z|</th> <th>[0.025</th>  <th>0.975]</th> \n",
       "</tr>\n",
       "<tr>\n",
       "  <th>const</th>                    <td>-0.4385</td>  <td>0.4672</td>  <td>-0.9387</td> <td>0.3479</td> <td>-1.3541</td> <td>0.4771</td> \n",
       "</tr>\n",
       "<tr>\n",
       "  <th>Credit Amount</th>            <td>0.0002</td>   <td>0.0000</td>  <td>4.0831</td>  <td>0.0000</td> <td>0.0001</td>  <td>0.0002</td> \n",
       "</tr>\n",
       "<tr>\n",
       "  <th>Install_rate</th>             <td>0.2947</td>   <td>0.0977</td>  <td>3.0151</td>  <td>0.0026</td> <td>0.1031</td>  <td>0.4863</td> \n",
       "</tr>\n",
       "<tr>\n",
       "  <th>Age</th>                      <td>-0.0267</td>  <td>0.0094</td>  <td>-2.8330</td> <td>0.0046</td> <td>-0.0452</td> <td>-0.0082</td>\n",
       "</tr>\n",
       "<tr>\n",
       "  <th>CHK_ACCT_no-account</th>      <td>-1.7346</td>  <td>0.2448</td>  <td>-7.0854</td> <td>0.0000</td> <td>-2.2145</td> <td>-1.2548</td>\n",
       "</tr>\n",
       "<tr>\n",
       "  <th>CHK_ACCT_over-200DM</th>      <td>-1.1121</td>  <td>0.4274</td>  <td>-2.6019</td> <td>0.0093</td> <td>-1.9499</td> <td>-0.2744</td>\n",
       "</tr>\n",
       "<tr>\n",
       "  <th>Credit History_ critical</th> <td>-0.6778</td>  <td>0.2521</td>  <td>-2.6886</td> <td>0.0072</td> <td>-1.1719</td> <td>-0.1837</td>\n",
       "</tr>\n",
       "<tr>\n",
       "  <th>Credit History_ delay</th>    <td>-0.4645</td>  <td>0.3705</td>  <td>-1.2538</td> <td>0.2099</td> <td>-1.1906</td> <td>0.2616</td> \n",
       "</tr>\n",
       "</table>"
      ],
      "text/plain": [
       "<class 'statsmodels.iolib.summary2.Summary'>\n",
       "\"\"\"\n",
       "                             Results: Logit\n",
       "========================================================================\n",
       "Model:                 Logit              Pseudo R-squared:   0.167     \n",
       "Dependent Variable:    Credit_Rating      AIC:                599.6102  \n",
       "Date:                  2019-12-02 14:58   BIC:                634.2337  \n",
       "No. Observations:      560                Log-Likelihood:     -291.81   \n",
       "Df Model:              7                  LL-Null:            -350.14   \n",
       "Df Residuals:          552                LLR p-value:        3.7922e-22\n",
       "Converged:             1.0000             Scale:              1.0000    \n",
       "No. Iterations:        6.0000                                           \n",
       "------------------------------------------------------------------------\n",
       "                          Coef.  Std.Err.    z    P>|z|   [0.025  0.975]\n",
       "------------------------------------------------------------------------\n",
       "const                    -0.4385   0.4672 -0.9387 0.3479 -1.3541  0.4771\n",
       "Credit Amount             0.0002   0.0000  4.0831 0.0000  0.0001  0.0002\n",
       "Install_rate              0.2947   0.0977  3.0151 0.0026  0.1031  0.4863\n",
       "Age                      -0.0267   0.0094 -2.8330 0.0046 -0.0452 -0.0082\n",
       "CHK_ACCT_no-account      -1.7346   0.2448 -7.0854 0.0000 -2.2145 -1.2548\n",
       "CHK_ACCT_over-200DM      -1.1121   0.4274 -2.6019 0.0093 -1.9499 -0.2744\n",
       "Credit History_ critical -0.6778   0.2521 -2.6886 0.0072 -1.1719 -0.1837\n",
       "Credit History_ delay    -0.4645   0.3705 -1.2538 0.2099 -1.1906  0.2616\n",
       "========================================================================\n",
       "\n",
       "\"\"\""
      ]
     },
     "execution_count": 20,
     "metadata": {},
     "output_type": "execute_result"
    }
   ],
   "source": [
    "final_logit.summary2()"
   ]
  },
  {
   "cell_type": "code",
   "execution_count": 21,
   "metadata": {},
   "outputs": [],
   "source": [
    "#predicting on test data\n",
    "Y_pred_df = pd.DataFrame({\"actual\": Y_test, \"predicted_prob\": final_logit.predict(sm.add_constant(X_test[significant_vars]))})"
   ]
  },
  {
   "cell_type": "code",
   "execution_count": 22,
   "metadata": {},
   "outputs": [
    {
     "data": {
      "text/html": [
       "<div>\n",
       "<style scoped>\n",
       "    .dataframe tbody tr th:only-of-type {\n",
       "        vertical-align: middle;\n",
       "    }\n",
       "\n",
       "    .dataframe tbody tr th {\n",
       "        vertical-align: top;\n",
       "    }\n",
       "\n",
       "    .dataframe thead th {\n",
       "        text-align: right;\n",
       "    }\n",
       "</style>\n",
       "<table border=\"1\" class=\"dataframe\">\n",
       "  <thead>\n",
       "    <tr style=\"text-align: right;\">\n",
       "      <th></th>\n",
       "      <th>actual</th>\n",
       "      <th>predicted_prob</th>\n",
       "    </tr>\n",
       "  </thead>\n",
       "  <tbody>\n",
       "    <tr>\n",
       "      <th>360</th>\n",
       "      <td>0</td>\n",
       "      <td>0.334354</td>\n",
       "    </tr>\n",
       "    <tr>\n",
       "      <th>346</th>\n",
       "      <td>0</td>\n",
       "      <td>0.399071</td>\n",
       "    </tr>\n",
       "    <tr>\n",
       "      <th>393</th>\n",
       "      <td>0</td>\n",
       "      <td>0.208565</td>\n",
       "    </tr>\n",
       "    <tr>\n",
       "      <th>367</th>\n",
       "      <td>0</td>\n",
       "      <td>0.464480</td>\n",
       "    </tr>\n",
       "    <tr>\n",
       "      <th>76</th>\n",
       "      <td>1</td>\n",
       "      <td>0.615904</td>\n",
       "    </tr>\n",
       "    <tr>\n",
       "      <th>133</th>\n",
       "      <td>0</td>\n",
       "      <td>0.126841</td>\n",
       "    </tr>\n",
       "    <tr>\n",
       "      <th>292</th>\n",
       "      <td>0</td>\n",
       "      <td>0.339375</td>\n",
       "    </tr>\n",
       "    <tr>\n",
       "      <th>786</th>\n",
       "      <td>0</td>\n",
       "      <td>0.127250</td>\n",
       "    </tr>\n",
       "    <tr>\n",
       "      <th>456</th>\n",
       "      <td>0</td>\n",
       "      <td>0.297737</td>\n",
       "    </tr>\n",
       "    <tr>\n",
       "      <th>218</th>\n",
       "      <td>0</td>\n",
       "      <td>0.499373</td>\n",
       "    </tr>\n",
       "  </tbody>\n",
       "</table>\n",
       "</div>"
      ],
      "text/plain": [
       "     actual  predicted_prob\n",
       "360       0        0.334354\n",
       "346       0        0.399071\n",
       "393       0        0.208565\n",
       "367       0        0.464480\n",
       "76        1        0.615904\n",
       "133       0        0.126841\n",
       "292       0        0.339375\n",
       "786       0        0.127250\n",
       "456       0        0.297737\n",
       "218       0        0.499373"
      ]
     },
     "execution_count": 22,
     "metadata": {},
     "output_type": "execute_result"
    }
   ],
   "source": [
    "Y_pred_df.sample(10,random_state = 42)"
   ]
  },
  {
   "cell_type": "code",
   "execution_count": 23,
   "metadata": {},
   "outputs": [],
   "source": [
    "Y_pred_df['predicted'] = Y_pred_df.predicted_prob.map(lambda x: 1 if x >0.5 else 0)"
   ]
  },
  {
   "cell_type": "code",
   "execution_count": 24,
   "metadata": {},
   "outputs": [
    {
     "data": {
      "text/html": [
       "<div>\n",
       "<style scoped>\n",
       "    .dataframe tbody tr th:only-of-type {\n",
       "        vertical-align: middle;\n",
       "    }\n",
       "\n",
       "    .dataframe tbody tr th {\n",
       "        vertical-align: top;\n",
       "    }\n",
       "\n",
       "    .dataframe thead th {\n",
       "        text-align: right;\n",
       "    }\n",
       "</style>\n",
       "<table border=\"1\" class=\"dataframe\">\n",
       "  <thead>\n",
       "    <tr style=\"text-align: right;\">\n",
       "      <th></th>\n",
       "      <th>actual</th>\n",
       "      <th>predicted_prob</th>\n",
       "      <th>predicted</th>\n",
       "    </tr>\n",
       "  </thead>\n",
       "  <tbody>\n",
       "    <tr>\n",
       "      <th>360</th>\n",
       "      <td>0</td>\n",
       "      <td>0.334354</td>\n",
       "      <td>0</td>\n",
       "    </tr>\n",
       "    <tr>\n",
       "      <th>346</th>\n",
       "      <td>0</td>\n",
       "      <td>0.399071</td>\n",
       "      <td>0</td>\n",
       "    </tr>\n",
       "    <tr>\n",
       "      <th>393</th>\n",
       "      <td>0</td>\n",
       "      <td>0.208565</td>\n",
       "      <td>0</td>\n",
       "    </tr>\n",
       "    <tr>\n",
       "      <th>367</th>\n",
       "      <td>0</td>\n",
       "      <td>0.464480</td>\n",
       "      <td>0</td>\n",
       "    </tr>\n",
       "    <tr>\n",
       "      <th>76</th>\n",
       "      <td>1</td>\n",
       "      <td>0.615904</td>\n",
       "      <td>1</td>\n",
       "    </tr>\n",
       "    <tr>\n",
       "      <th>133</th>\n",
       "      <td>0</td>\n",
       "      <td>0.126841</td>\n",
       "      <td>0</td>\n",
       "    </tr>\n",
       "    <tr>\n",
       "      <th>292</th>\n",
       "      <td>0</td>\n",
       "      <td>0.339375</td>\n",
       "      <td>0</td>\n",
       "    </tr>\n",
       "    <tr>\n",
       "      <th>786</th>\n",
       "      <td>0</td>\n",
       "      <td>0.127250</td>\n",
       "      <td>0</td>\n",
       "    </tr>\n",
       "    <tr>\n",
       "      <th>456</th>\n",
       "      <td>0</td>\n",
       "      <td>0.297737</td>\n",
       "      <td>0</td>\n",
       "    </tr>\n",
       "    <tr>\n",
       "      <th>218</th>\n",
       "      <td>0</td>\n",
       "      <td>0.499373</td>\n",
       "      <td>0</td>\n",
       "    </tr>\n",
       "  </tbody>\n",
       "</table>\n",
       "</div>"
      ],
      "text/plain": [
       "     actual  predicted_prob  predicted\n",
       "360       0        0.334354          0\n",
       "346       0        0.399071          0\n",
       "393       0        0.208565          0\n",
       "367       0        0.464480          0\n",
       "76        1        0.615904          1\n",
       "133       0        0.126841          0\n",
       "292       0        0.339375          0\n",
       "786       0        0.127250          0\n",
       "456       0        0.297737          0\n",
       "218       0        0.499373          0"
      ]
     },
     "execution_count": 24,
     "metadata": {},
     "output_type": "execute_result"
    }
   ],
   "source": [
    "Y_pred_df.sample(10,random_state = 42)"
   ]
  },
  {
   "cell_type": "code",
   "execution_count": 25,
   "metadata": {},
   "outputs": [],
   "source": [
    "#craeting a confusion matrix\n",
    "import matplotlib.pyplot as plt\n",
    "import seaborn as sn\n",
    "%matplotlib inline"
   ]
  },
  {
   "cell_type": "code",
   "execution_count": 26,
   "metadata": {},
   "outputs": [],
   "source": [
    "from sklearn import metrics\n",
    "def draw_cm(actual, predicted):\n",
    "    cm = metrics.confusion_matrix(actual, predicted, [1,0])\n",
    "    sn.heatmap(cm, annot=True, fmt='0.2f', \n",
    "               xticklabels = [\"Bad credit\",\"Good credit\"],\n",
    "               yticklabels = [\"Bad credit\",\"Good credit\"])\n",
    "    plt.ylabel('True label')\n",
    "    plt.xlabel('Predicted label')\n",
    "    plt.show()"
   ]
  },
  {
   "cell_type": "code",
   "execution_count": 27,
   "metadata": {},
   "outputs": [
    {
     "data": {
      "image/png": "[encoded data removed]",
      "text/plain": [
       "<Figure size 432x288 with 2 Axes>"
      ]
     },
     "metadata": {
      "needs_background": "light"
     },
     "output_type": "display_data"
    }
   ],
   "source": [
    "draw_cm(Y_pred_df.actual,Y_pred_df.predicted)"
   ]
  },
  {
   "cell_type": "code",
   "execution_count": 28,
   "metadata": {},
   "outputs": [
    {
     "name": "stdout",
     "output_type": "stream",
     "text": [
      "             precision    recall  f1-score   support\n",
      "\n",
      "          0       0.80      0.83      0.82       179\n",
      "          1       0.44      0.39      0.42        61\n",
      "\n",
      "avg / total       0.71      0.72      0.72       240\n",
      "\n"
     ]
    }
   ],
   "source": [
    "#measuring accuracies\n",
    "print(metrics.classification_report(Y_pred_df.actual,Y_pred_df.predicted))"
   ]
  },
  {
   "cell_type": "code",
   "execution_count": 29,
   "metadata": {},
   "outputs": [],
   "source": [
    "#obtaining Reciever Operating Curve(ROC) and Area under the Curve(AUC)\n",
    "def draw_roc(actual,probs):\n",
    "    fpr,    tpr,    thresholds = metrics.roc_curve(actual,probs,drop_intermediate = True)\n",
    "    auc_score = metrics.roc_auc_score(actual,probs)\n",
    "    plt.figure(figsize = (12,8))\n",
    "    plt.plot(fpr, tpr, label='ROC Curve (area = %0.2f)' %auc_score)\n",
    "    plt.plot([0,1],[0,1],'k--')\n",
    "    plt.xlim([0.0,1.0])\n",
    "    plt.ylim([0.0,1.05])\n",
    "    plt.xlabel('False Positive Rate')\n",
    "    plt.ylabel('True Positive Rate')\n",
    "    plt.legend(loc=\"lower right\")\n",
    "    plt.show()\n",
    "    return thresholds"
   ]
  },
  {
   "cell_type": "code",
   "execution_count": 30,
   "metadata": {},
   "outputs": [
    {
     "data": {
      "image/png": "[encoded data removed]",
      "text/plain": [
       "<Figure size 864x576 with 1 Axes>"
      ]
     },
     "metadata": {
      "needs_background": "light"
     },
     "output_type": "display_data"
    }
   ],
   "source": [
    "thresholds = draw_roc(Y_pred_df.actual,Y_pred_df.predicted_prob)"
   ]
  }
 ],
 "metadata": {
  "kernelspec": {
   "display_name": "Python 3",
   "language": "python",
   "name": "python3"
  },
  "language_info": {
   "codemirror_mode": {
    "name": "ipython",
    "version": 3
   },
   "file_extension": ".py",
   "mimetype": "text/x-python",
   "name": "python",
   "nbconvert_exporter": "python",
   "pygments_lexer": "ipython3",
   "version": "3.7.4"
  }
 },
 "nbformat": 4,
 "nbformat_minor": 2
}
